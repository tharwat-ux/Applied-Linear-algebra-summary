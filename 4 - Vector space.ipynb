{
 "cells": [
  {
   "cell_type": "markdown",
   "id": "91d8916f-d2d3-4929-9b16-9f09cc50de18",
   "metadata": {
    "jp-MarkdownHeadingCollapsed": true
   },
   "source": [
    "# vector space"
   ]
  },
  {
   "cell_type": "code",
   "execution_count": 2,
   "id": "55410282-426e-4ccf-9889-149e185d3937",
   "metadata": {},
   "outputs": [],
   "source": [
    "#A vector space is a set of vectors where you can add vectors and multiply them by scalars, and the result still belongs to the space.\n",
    "#ex : v1=(1,2) - v2=(3,4) => all in R^2 vector space"
   ]
  },
  {
   "cell_type": "markdown",
   "id": "9311cc18-4359-4c0e-8dfa-ae58dd748ec5",
   "metadata": {
    "jp-MarkdownHeadingCollapsed": true
   },
   "source": [
    "# vector span"
   ]
  },
  {
   "cell_type": "code",
   "execution_count": 5,
   "id": "2d83f426-a099-4323-a820-cc2863085573",
   "metadata": {},
   "outputs": [],
   "source": [
    "#Given a set of vectors v1,v2,vk ... The span is the set of all possible linear combinations of these vectors. \n",
    "#the span tells us how far we can cover the space or reach all the possible vectors in the vector space by addition and scalling\n",
    "#to cover up R^n span we need n linearly independent vectors "
   ]
  },
  {
   "cell_type": "markdown",
   "id": "164fe3f9-f0e1-4d27-b1f2-b74b7f9268ee",
   "metadata": {},
   "source": [
    "# linear independency"
   ]
  },
  {
   "cell_type": "code",
   "execution_count": 4,
   "id": "6f2d8e8d-e51b-4137-8ded-44885bb944aa",
   "metadata": {},
   "outputs": [],
   "source": [
    "# we can call N vector as linear independent if none of them can be obtained from the others using addition and scalling\n",
    "# this can be checked using Rank (RREF) or Determinant in case of square matrix"
   ]
  },
  {
   "cell_type": "code",
   "execution_count": 120,
   "id": "4b9d02ba-c439-4f71-825f-b56216848b2a",
   "metadata": {},
   "outputs": [
    {
     "name": "stdout",
     "output_type": "stream",
     "text": [
      "linear independent\n"
     ]
    }
   ],
   "source": [
    "import numpy as np\n",
    "v=np.array ([4,1])\n",
    "u=np.array([0,-2])\n",
    "vector_span = np.array([v,u]).T\n",
    "det = np.linalg.det(vector_span)\n",
    "if det==0:\n",
    "    print(\"linear dependent\")\n",
    "else :\n",
    "    print(\"linear independent\")"
   ]
  },
  {
   "cell_type": "code",
   "execution_count": 121,
   "id": "202a5011-624b-4927-8c1c-718fd6f3e01b",
   "metadata": {},
   "outputs": [
    {
     "data": {
      "text/plain": [
       "(Matrix([\n",
       " [1, 0],\n",
       " [0, 1]]),\n",
       " (0, 1))"
      ]
     },
     "execution_count": 121,
     "metadata": {},
     "output_type": "execute_result"
    }
   ],
   "source": [
    "import sympy as sm\n",
    "span = sm.Matrix(vector_span)\n",
    "span.rref()         # rank = 2 (two pivots)  "
   ]
  },
  {
   "cell_type": "code",
   "execution_count": 122,
   "id": "302cfe88-492d-4063-ad46-c6d9543bcaaa",
   "metadata": {},
   "outputs": [
    {
     "data": {
      "text/plain": [
       "(Matrix([\n",
       " [1, 0,  7/4],\n",
       " [0, 1, -9/8]]),\n",
       " (0, 1))"
      ]
     },
     "execution_count": 122,
     "metadata": {},
     "output_type": "execute_result"
    }
   ],
   "source": [
    "# u,v already covers R2 vetor space \n",
    "# if another vector[7,4] is used it would be redundunt (can be formed as a linear combination of the other two)\n",
    "redundunt_span = sm.Matrix([[4,0,7],[1,-2,4]])\n",
    "redundunt_span.rref()     # rank = 2 (there is a vetor that can be linear combination of the two others)\n",
    "# redundunt vector = 7*v + 3*u"
   ]
  },
  {
   "cell_type": "code",
   "execution_count": 124,
   "id": "22c8a524-541b-47d0-9132-6f76ba9e0a6c",
   "metadata": {},
   "outputs": [
    {
     "data": {
      "text/plain": [
       "array([7., 4.])"
      ]
     },
     "execution_count": 124,
     "metadata": {},
     "output_type": "execute_result"
    }
   ],
   "source": [
    "7/4*v + -9/8*u"
   ]
  },
  {
   "cell_type": "markdown",
   "id": "3e5fe94e-499d-4bdf-a923-6571f7fd2792",
   "metadata": {},
   "source": [
    "# changing basis"
   ]
  },
  {
   "cell_type": "code",
   "execution_count": 125,
   "id": "221d7d36-a750-4aeb-875e-aa8dec3c6c7f",
   "metadata": {},
   "outputs": [
    {
     "name": "stdout",
     "output_type": "stream",
     "text": [
      "v1 in respect to v and u is : [ 1.25  -0.875]\n",
      "v1 restoed successfully\n"
     ]
    }
   ],
   "source": [
    "# expressing the same vector with respect to another set of vector span\n",
    "# ex : [5,3] is expressed with respect to e1,e2 .. changing basis to v,u will be\n",
    "P=np.array([v,u]).T\n",
    "v1=np.array([5,3])\n",
    "v2=np.linalg.inv(P) @ v1\n",
    "print (\"v1 in respect to v and u is :\" ,v2)\n",
    "restored = P@v2\n",
    "if restored.all() == v1.all():\n",
    "    print (\"v1 restoed successfully\")"
   ]
  },
  {
   "cell_type": "markdown",
   "id": "5dda353b-02c4-439f-8c23-79dc43c7f4e2",
   "metadata": {},
   "source": [
    "#### Transformation in a changed basis"
   ]
  },
  {
   "cell_type": "code",
   "execution_count": 126,
   "id": "2bfa4176-8434-4385-abb7-ee9ce70cc00f",
   "metadata": {},
   "outputs": [],
   "source": [
    "# P@v2 to restore to e basis ---T@P@v2 for the transformation --- inv(P)@T@P@v2 to back to u,v basis\n",
    "#soo the final equation is : inv(P)@T@P@\n",
    "#inverse is too computationally expensive what takes us to orthogonaliztion (then P inverse = P transpose)"
   ]
  },
  {
   "cell_type": "markdown",
   "id": "88a35389-f0c5-4c09-84f8-bf369b17ffaf",
   "metadata": {},
   "source": [
    "# orthonormalization"
   ]
  },
  {
   "cell_type": "code",
   "execution_count": 127,
   "id": "3d3c14c5-1839-42d1-8c9c-74b2c1bcb667",
   "metadata": {},
   "outputs": [],
   "source": [
    "#assume q1 is v -- get the Perpendicular component of u over v by subtracting u - proj on v ... repeat in case of more than 2\n",
    "#or use QR decomposition"
   ]
  },
  {
   "cell_type": "markdown",
   "id": "373adcd4-697d-4b7c-b591-f1ca875f6148",
   "metadata": {},
   "source": [
    "###### manually"
   ]
  },
  {
   "cell_type": "code",
   "execution_count": 128,
   "id": "f1b11a66-8bfb-4558-b2c2-49e91ec3e269",
   "metadata": {},
   "outputs": [
    {
     "name": "stdout",
     "output_type": "stream",
     "text": [
      "[[ 0.9701425   0.24253563]\n",
      " [ 0.24253563 -0.9701425 ]]\n"
     ]
    },
    {
     "data": {
      "text/plain": [
       "0.0"
      ]
     },
     "execution_count": 128,
     "metadata": {},
     "output_type": "execute_result"
    }
   ],
   "source": [
    "q1=v/np.linalg.norm(v)\n",
    "u_proj_over_v = (np.dot(u,v)/np.dot(v,v))*v\n",
    "Perpendicular_component = u-u_proj_over_v\n",
    "q2=Perpendicular_component/np.linalg.norm(Perpendicular_component)\n",
    "print(np.array([q1,q2]))\n",
    "q1@q2"
   ]
  },
  {
   "cell_type": "markdown",
   "id": "d6aedae8-47df-42d0-ad6b-8d3ebc9f6233",
   "metadata": {},
   "source": [
    "##### QR"
   ]
  },
  {
   "cell_type": "code",
   "execution_count": 129,
   "id": "3eed68ec-d318-4130-bd72-b1fd2f451eee",
   "metadata": {},
   "outputs": [
    {
     "name": "stdout",
     "output_type": "stream",
     "text": [
      "[[-0.9701425  -0.24253563]\n",
      " [-0.24253563  0.9701425 ]]\n"
     ]
    }
   ],
   "source": [
    "Q, R = np.linalg.qr(vector_span)\n",
    "print (Q)"
   ]
  },
  {
   "cell_type": "code",
   "execution_count": 131,
   "id": "ca9e5ca1-2689-482b-b9fa-40bd55d541f6",
   "metadata": {},
   "outputs": [],
   "source": [
    "#QR and gramshmdit gives us E basis with respect to v,u Basis\n",
    "#so Transformation will be Q@T@inv(Q) -- inv(Q) = Q.T (orthonormal) => Transformation = Q@T@Q.T"
   ]
  },
  {
   "cell_type": "code",
   "execution_count": null,
   "id": "e2cbb6e8-e387-42d5-aefd-cca968c6db27",
   "metadata": {},
   "outputs": [],
   "source": []
  }
 ],
 "metadata": {
  "kernelspec": {
   "display_name": "Python 3 (ipykernel)",
   "language": "python",
   "name": "python3"
  },
  "language_info": {
   "codemirror_mode": {
    "name": "ipython",
    "version": 3
   },
   "file_extension": ".py",
   "mimetype": "text/x-python",
   "name": "python",
   "nbconvert_exporter": "python",
   "pygments_lexer": "ipython3",
   "version": "3.12.7"
  }
 },
 "nbformat": 4,
 "nbformat_minor": 5
}
