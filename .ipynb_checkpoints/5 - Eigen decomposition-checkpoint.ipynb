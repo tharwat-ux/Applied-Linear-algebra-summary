{
 "cells": [
  {
   "cell_type": "markdown",
   "id": "368eaac2-a7cc-4a8f-bf1d-2c9f115f23e3",
   "metadata": {},
   "source": [
    "# Eigen Decomposition"
   ]
  },
  {
   "cell_type": "code",
   "execution_count": 17,
   "id": "dc717db1-f592-4115-953f-c636f6108728",
   "metadata": {},
   "outputs": [],
   "source": [
    "# A matrix transformation '𝐴' can stretch, shrink, or flip vectors in different directions.\n",
    "# Eigenvectors of '𝐴' are the special directions that don’t change their orientation under the transformation — they only get scaled.\n",
    "# The scaling factor is called the eigenvalue."
   ]
  },
  {
   "cell_type": "code",
   "execution_count": 49,
   "id": "100d73b1-5141-4f52-b5b9-831e28e95976",
   "metadata": {},
   "outputs": [
    {
     "data": {
      "image/png": "[encoded data removed]",
      "text/plain": [
       "<Figure size 600x600 with 1 Axes>"
      ]
     },
     "metadata": {},
     "output_type": "display_data"
    }
   ],
   "source": [
    "import numpy as np\n",
    "import matplotlib.pyplot as plt\n",
    "square = np.array([\n",
    "    [1, 1],\n",
    "    [1, -1],\n",
    "    [-1, -1],\n",
    "    [-1, 1],\n",
    "    [1, 1] \n",
    "])\n",
    "#Transformation matrix (sheer)\n",
    "A = np.array([[1/2, 0],\n",
    "              [0, 2]])\n",
    "transformed = square @ A.T  # (n,2) @ (2,2).T\n",
    "\n",
    "plt.figure(figsize=(6,6))\n",
    "\n",
    "plt.plot(square[:,0], square[:,1], 'b-', label=\"Original Square\")\n",
    "plt.fill(square[:,0], square[:,1], color='skyblue', alpha=0.3)\n",
    "\n",
    "plt.plot(transformed[:,0], transformed[:,1], 'r-', label=\"Transformed\")\n",
    "plt.fill(transformed[:,0], transformed[:,1], color='salmon', alpha=0.3)\n",
    "\n",
    "plt.axhline(0, color='black', linewidth=0.5)\n",
    "plt.axvline(0, color='black', linewidth=0.5)\n",
    "plt.gca().set_aspect('equal', adjustable='box')\n",
    "plt.legend()\n",
    "plt.grid(True)\n",
    "plt.show()\n",
    "\n",
    "# note from graph that : the vectors not changing their direction are [1,0] & [0,1] => eigen vectors\n",
    "# but they have just been scalled with a value of 1/2 & 2 respectively => eigen values\n"
   ]
  },
  {
   "cell_type": "code",
   "execution_count": 50,
   "id": "57e98079-6adc-4aef-ae97-19ac3c5a0849",
   "metadata": {},
   "outputs": [
    {
     "name": "stdout",
     "output_type": "stream",
     "text": [
      "Eigenvalues: [0.5 2. ]\n",
      "Eigenvectors:\n",
      " [[1. 0.]\n",
      " [0. 1.]]\n"
     ]
    }
   ],
   "source": [
    "eigenvalues, eigenvectors = np.linalg.eig(A)\n",
    "print(\"Eigenvalues:\", eigenvalues)\n",
    "print(\"Eigenvectors:\\n\", eigenvectors)\n",
    "# try with [[2,0],[1,2]] => will return 1 eigen vector and 1 eigen value (or duplicated results) => means that the matrix does not have enough linearly independent eigenvectors(not diagonalizable) "
   ]
  },
  {
   "cell_type": "code",
   "execution_count": null,
   "id": "80ecf8eb-e92b-446f-8ac7-1eab0251b8b8",
   "metadata": {},
   "outputs": [],
   "source": []
  },
  {
   "cell_type": "markdown",
   "id": "2f6213ea-7290-49ac-ac00-d0d2eca9e6b8",
   "metadata": {},
   "source": [
    "## diagonalization"
   ]
  },
  {
   "cell_type": "code",
   "execution_count": 51,
   "id": "a8b7c0c8-1185-402a-9bd1-0fc17ae4089b",
   "metadata": {},
   "outputs": [],
   "source": [
    "# diagonal matrix is a matrix which have numbers only in it's diagonal and the rest is zeros\n",
    "# diagonalization save so much computational expesnes (M^n => it's diagonal elements^n)\n",
    "# digonalization = C @ D @ inv(C) .. where C is eigen vectors in matrix form & D is their eigen values (similar to transformations in changed basis)\n",
    "# to transform 100 times it results into = C @ D^100 @ inv(C) => {transform in eigen space}"
   ]
  },
  {
   "cell_type": "code",
   "execution_count": 79,
   "id": "792422b6-f49e-4548-a5fe-325751f12dda",
   "metadata": {},
   "outputs": [
    {
     "data": {
      "text/plain": [
       "array([[1.],\n",
       "       [0.]])"
      ]
     },
     "execution_count": 79,
     "metadata": {},
     "output_type": "execute_result"
    }
   ],
   "source": [
    "#ex\n",
    "v=np.array([[1],\n",
    "            [-1]])\n",
    "T=np.array([[1,0]\n",
    "           ,[1,2]])   #this is the transformation i wanna apply 100 times\n",
    "eigenvalues, eigenvectors = np.linalg.eig(T) \n",
    "C = eigenvectors\n",
    "D = np.diag(eigenvalues)\n",
    "transformed_vector = C @ np.power(D,100) @ np.linalg.inv(C) @ v\n",
    "transformed_vector"
   ]
  },
  {
   "cell_type": "code",
   "execution_count": null,
   "id": "1028db5e-7ac0-4ad2-bbc3-8a0e0cb4f4cf",
   "metadata": {},
   "outputs": [],
   "source": []
  },
  {
   "cell_type": "code",
   "execution_count": null,
   "id": "6d33d493-f4ea-427c-9f24-c818f58dc6b2",
   "metadata": {},
   "outputs": [],
   "source": []
  }
 ],
 "metadata": {
  "kernelspec": {
   "display_name": "Python 3 (ipykernel)",
   "language": "python",
   "name": "python3"
  },
  "language_info": {
   "codemirror_mode": {
    "name": "ipython",
    "version": 3
   },
   "file_extension": ".py",
   "mimetype": "text/x-python",
   "name": "python",
   "nbconvert_exporter": "python",
   "pygments_lexer": "ipython3",
   "version": "3.12.7"
  }
 },
 "nbformat": 4,
 "nbformat_minor": 5
}
