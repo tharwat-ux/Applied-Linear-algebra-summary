{
 "cells": [
  {
   "cell_type": "code",
   "execution_count": 2,
   "id": "3adf0084-e813-454d-b658-b189d05b8bbe",
   "metadata": {},
   "outputs": [],
   "source": [
    "import numpy as np\n",
    "from math import inf"
   ]
  },
  {
   "cell_type": "markdown",
   "id": "70e6998c-fa7f-43b8-b637-984cedbae24b",
   "metadata": {},
   "source": [
    "# vectors\n"
   ]
  },
  {
   "cell_type": "code",
   "execution_count": 22,
   "id": "da10d85f-fd79-40e1-9232-9017086211e3",
   "metadata": {},
   "outputs": [],
   "source": [
    "lst1 = [1,2,-3]\n",
    "v1=np.array(lst1)\n",
    "v2=np.array([2,4,5])"
   ]
  },
  {
   "cell_type": "code",
   "execution_count": 24,
   "id": "88990c4e-baf1-4cbe-9a9d-2db7ad2ac64e",
   "metadata": {},
   "outputs": [
    {
     "data": {
      "text/plain": [
       "-5"
      ]
     },
     "execution_count": 24,
     "metadata": {},
     "output_type": "execute_result"
    }
   ],
   "source": [
    "np.dot(v1,v2)"
   ]
  },
  {
   "cell_type": "code",
   "execution_count": 25,
   "id": "c61e38ef-bfa8-4c0a-8483-3faf625716c1",
   "metadata": {},
   "outputs": [
    {
     "data": {
      "text/plain": [
       "3.0"
      ]
     },
     "execution_count": 25,
     "metadata": {},
     "output_type": "execute_result"
    }
   ],
   "source": [
    "np.linalg.norm(v1,inf)"
   ]
  },
  {
   "cell_type": "markdown",
   "id": "97003801-d614-44e3-9b85-0ad151fed8e0",
   "metadata": {},
   "source": [
    "# matrices"
   ]
  },
  {
   "cell_type": "code",
   "execution_count": 53,
   "id": "b9ef433f-a327-4ee4-92fc-eed59efe4153",
   "metadata": {},
   "outputs": [],
   "source": [
    "import sympy as sm"
   ]
  },
  {
   "cell_type": "code",
   "execution_count": 65,
   "id": "bfb7cae8-53d0-4c33-91c9-3278f58f8a1b",
   "metadata": {},
   "outputs": [
    {
     "data": {
      "text/plain": [
       "array([[ 1,  2, -3],\n",
       "       [ 2,  4,  5]])"
      ]
     },
     "execution_count": 65,
     "metadata": {},
     "output_type": "execute_result"
    }
   ],
   "source": [
    "m1 = np.array([v1,v2])\n",
    "m1"
   ]
  },
  {
   "cell_type": "code",
   "execution_count": 68,
   "id": "2dc169a9-55f1-4ae4-a65c-9d92807e1524",
   "metadata": {},
   "outputs": [
    {
     "data": {
      "text/plain": [
       "array([[ 0],\n",
       "       [11]])"
      ]
     },
     "execution_count": 68,
     "metadata": {},
     "output_type": "execute_result"
    }
   ],
   "source": [
    "m1.sum(axis=1,keepdims=True)"
   ]
  },
  {
   "cell_type": "code",
   "execution_count": 69,
   "id": "ae01275e-2ed2-42b7-85f2-0af8a3862f31",
   "metadata": {},
   "outputs": [],
   "source": [
    "result=m1.T@m1"
   ]
  },
  {
   "cell_type": "code",
   "execution_count": 78,
   "id": "ecac5f18-05ee-4387-a958-5c0e26999aed",
   "metadata": {},
   "outputs": [
    {
     "data": {
      "text/plain": [
       "array([ 7, 14, 34])"
      ]
     },
     "execution_count": 78,
     "metadata": {},
     "output_type": "execute_result"
    }
   ],
   "source": [
    "#slicing\n",
    "result[:,-1]"
   ]
  },
  {
   "cell_type": "code",
   "execution_count": 79,
   "id": "858c099c-7f56-45a6-b1ab-50b605d688b6",
   "metadata": {},
   "outputs": [
    {
     "data": {
      "text/plain": [
       "0.0"
      ]
     },
     "execution_count": 79,
     "metadata": {},
     "output_type": "execute_result"
    }
   ],
   "source": [
    "#determint and inverse\n",
    "np.linalg.det(result)"
   ]
  },
  {
   "cell_type": "code",
   "execution_count": 97,
   "id": "13ce915c-ae79-49b0-b422-6ef4d6caa646",
   "metadata": {},
   "outputs": [
    {
     "name": "stdout",
     "output_type": "stream",
     "text": [
      "Singular matrix\n"
     ]
    }
   ],
   "source": [
    "try:\n",
    "    np.linalg.inv(result)\n",
    "except Exception as e:\n",
    "    print(e)"
   ]
  },
  {
   "cell_type": "code",
   "execution_count": 80,
   "id": "527837ac-37d9-4515-b770-72dc4505b198",
   "metadata": {},
   "outputs": [
    {
     "data": {
      "text/plain": [
       "(Matrix([\n",
       " [1, 2, 0],\n",
       " [0, 0, 1],\n",
       " [0, 0, 0]]),\n",
       " (0, 2))"
      ]
     },
     "execution_count": 80,
     "metadata": {},
     "output_type": "execute_result"
    }
   ],
   "source": [
    "#sympy and rref\n",
    "sm.Matrix(result).rref()"
   ]
  },
  {
   "cell_type": "markdown",
   "id": "dbae64cd-746f-4558-8427-4eff8fd588dc",
   "metadata": {},
   "source": [
    "# special matrices "
   ]
  },
  {
   "cell_type": "code",
   "execution_count": 102,
   "id": "b2c0e538-4b85-435d-be5c-615d058789e7",
   "metadata": {},
   "outputs": [
    {
     "data": {
      "text/plain": [
       "array([[1., 0., 0., 0.],\n",
       "       [0., 1., 0., 0.],\n",
       "       [0., 0., 1., 0.],\n",
       "       [0., 0., 0., 1.]])"
      ]
     },
     "execution_count": 102,
     "metadata": {},
     "output_type": "execute_result"
    }
   ],
   "source": [
    "np.eye(4)\n",
    "# inverse = transpose \"orthonormal\""
   ]
  },
  {
   "cell_type": "code",
   "execution_count": 106,
   "id": "841bc3c7-4262-4f56-a5e5-88e9f627b4ba",
   "metadata": {},
   "outputs": [
    {
     "data": {
      "text/plain": [
       "array([[0., 0., 0., 0.],\n",
       "       [0., 0., 0., 0.],\n",
       "       [0., 0., 0., 0.],\n",
       "       [0., 0., 0., 0.],\n",
       "       [0., 0., 0., 0.]])"
      ]
     },
     "execution_count": 106,
     "metadata": {},
     "output_type": "execute_result"
    }
   ],
   "source": [
    "np.zeros((5,4))"
   ]
  },
  {
   "cell_type": "code",
   "execution_count": 115,
   "id": "5c3d968e-17e7-4cc1-9d0f-8b96ef384fed",
   "metadata": {},
   "outputs": [
    {
     "data": {
      "text/plain": [
       "array([[ 1,  6, 11, 16],\n",
       "       [21, 26, 31, 36],\n",
       "       [41, 46, 51, 56],\n",
       "       [61, 66, 71, 76],\n",
       "       [81, 86, 91, 96]])"
      ]
     },
     "execution_count": 115,
     "metadata": {},
     "output_type": "execute_result"
    }
   ],
   "source": [
    "np.arange(1,100,5) #start,stop,step"
   ]
  },
  {
   "cell_type": "code",
   "execution_count": 120,
   "id": "e694e7e3-1866-4d7f-837d-5cf4716e7107",
   "metadata": {},
   "outputs": [
    {
     "data": {
      "text/plain": [
       "array([ 1.,  2.,  3.,  4.,  5.,  6.,  7.,  8.,  9., 10.])"
      ]
     },
     "execution_count": 120,
     "metadata": {},
     "output_type": "execute_result"
    }
   ],
   "source": [
    "np.linspace(1,10,10) #start,stop,#numbers"
   ]
  },
  {
   "cell_type": "code",
   "execution_count": null,
   "id": "e5adb9be-d215-4948-9906-24ee22fff6be",
   "metadata": {},
   "outputs": [],
   "source": []
  },
  {
   "cell_type": "code",
   "execution_count": null,
   "id": "c48b1743-0d42-4b9f-b127-c52f15a13ee3",
   "metadata": {},
   "outputs": [],
   "source": []
  }
 ],
 "metadata": {
  "kernelspec": {
   "display_name": "Python 3 (ipykernel)",
   "language": "python",
   "name": "python3"
  },
  "language_info": {
   "codemirror_mode": {
    "name": "ipython",
    "version": 3
   },
   "file_extension": ".py",
   "mimetype": "text/x-python",
   "name": "python",
   "nbconvert_exporter": "python",
   "pygments_lexer": "ipython3",
   "version": "3.12.7"
  }
 },
 "nbformat": 4,
 "nbformat_minor": 5
}
