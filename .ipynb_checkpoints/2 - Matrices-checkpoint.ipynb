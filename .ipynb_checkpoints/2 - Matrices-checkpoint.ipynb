{
 "cells": [
  {
   "cell_type": "markdown",
   "id": "129ebd8f-af70-4bfd-837c-3f067a348f3f",
   "metadata": {},
   "source": [
    "# matrix"
   ]
  },
  {
   "cell_type": "code",
   "execution_count": 40,
   "id": "0c9ab958-4d0f-4929-83c4-d43512144be4",
   "metadata": {},
   "outputs": [
    {
     "name": "stdout",
     "output_type": "stream",
     "text": [
      "shape equals (3, 3)\n"
     ]
    }
   ],
   "source": [
    "# m*n matrix is rectangular array of numbers or elements arranged in m rows and n columns.\n",
    "import numpy as np\n",
    "import sympy as sm\n",
    "\n",
    "m1 = np.array ([\n",
    "    [1,3,5],\n",
    "    [2,7,9],\n",
    "    [10,-9,5]\n",
    "])\n",
    "print(\"shape equals\",M1.shape)\n",
    "\n",
    "#slicing : matrix[start:end rows , start:end columns ] \n",
    "#if [n:,]->from n to end rows , all columns \n",
    "# if 1 input-> index of row or column\n",
    "\n",
    "A=m1[1,:] # row index 2 , all columns \n",
    "B=m1[0:2,1:2] # row 0,1 , column 1"
   ]
  },
  {
   "cell_type": "code",
   "execution_count": null,
   "id": "9f7ce4c4-e2af-431a-a934-00f504dfa277",
   "metadata": {},
   "outputs": [],
   "source": []
  },
  {
   "cell_type": "markdown",
   "id": "82b66ece-ee9a-4cb3-9cbc-a1c5eabdad89",
   "metadata": {},
   "source": [
    "### important matrices"
   ]
  },
  {
   "cell_type": "code",
   "execution_count": 45,
   "id": "0b548d26-a0f7-490f-a149-6c488cfb7a7d",
   "metadata": {},
   "outputs": [
    {
     "data": {
      "text/plain": [
       "0.0"
      ]
     },
     "execution_count": 45,
     "metadata": {},
     "output_type": "execute_result"
    }
   ],
   "source": [
    "# 1- zero matrix : all elements are zeros.\n",
    "zeros=np.zeros((3,4))\n",
    "\n",
    "# 2- ones matrix :all elements are ones.\n",
    "ones=np.ones((2,1))\n",
    "\n",
    "# 3- identity matrix : Square matrix with 1s on the main diagonal and 0s elsewhere (diagonal)\n",
    "identity=np.eye(3)\n",
    "\n",
    "# 4- scalar matrix : a special type of diagonal matrix where all diagonal elements are equal.\n",
    "scalar=5*identity\n",
    "\n",
    "# 5- diagonal matrix : Only elements on the main diagonal can be non-zero; all others are 0 \n",
    "diagonal= np.diag([5,7,0,2])\n",
    "\n",
    "# 6-Orthonormal matrix : all rows and columns are orthonormal ,linearly independent & transpose = inverse \n",
    "orthonormal = np.array([[0,1],\n",
    "                        [-1,0]])\n",
    "\n",
    "# 7-singular matrix : matrix with det =0 (has no inverse)\n",
    "singular = np.array([[1,2,3],\n",
    "                    [2,4,6],\n",
    "                    [7,5,3]])\n",
    "np.linalg.det(singular)\n"
   ]
  },
  {
   "cell_type": "code",
   "execution_count": null,
   "id": "2cd7a23f-2e56-4d75-816d-c0debe5bc547",
   "metadata": {},
   "outputs": [],
   "source": []
  },
  {
   "cell_type": "markdown",
   "id": "1402c55a-79b9-4579-849a-9f6d1d6cdb15",
   "metadata": {},
   "source": [
    "## Basic operations"
   ]
  },
  {
   "cell_type": "code",
   "execution_count": 68,
   "id": "0157c160-4147-43aa-9532-2593931318f3",
   "metadata": {},
   "outputs": [
    {
     "name": "stdout",
     "output_type": "stream",
     "text": [
      "1- addition error :  operands could not be broadcast together with shapes (3,3) (2,3) \n",
      "2- multiplication error :  matmul: Input operand 1 has a mismatch in its core dimension 0, with gufunc signature (n?,k),(k,m?)->(n?,m?) (size 2 is different from 3)\n",
      "3- multiplication error :  Last 2 dimensions of the array must be square\n",
      "3- inverse error :  Singular matrix\n"
     ]
    },
    {
     "data": {
      "text/plain": [
       "(Matrix([\n",
       " [1, 0, -1],\n",
       " [0, 1,  2],\n",
       " [0, 0,  0]]),\n",
       " (0, 1))"
      ]
     },
     "execution_count": 68,
     "metadata": {},
     "output_type": "execute_result"
    }
   ],
   "source": [
    "m2=np.array([\n",
    "    [4,0,3],\n",
    "    [5,-1,4]\n",
    "])\n",
    "m3=np.array([\n",
    "    [-1,2,5],\n",
    "    [7,4,3]\n",
    "])\n",
    "\n",
    "# Addition and Subtraction (same dimensions)\n",
    "try:\n",
    "    addition = m1+m2 #not valid\n",
    "except Exception as e:\n",
    "    print(\"1- addition error : \" ,e)\n",
    "    addition=m2+m3\n",
    "\n",
    "\n",
    "\n",
    "# Scalar Multiplication\n",
    "scalled = 5*m2\n",
    "\n",
    "\n",
    "\n",
    "# Matrix Multiplication (only valid when inner dimensions are the same)\n",
    "try:\n",
    "     Multiplication= m2@m3 #not valid\n",
    "except Exception as e:\n",
    "    print(\"2- multiplication error : \" ,e)\n",
    "    Multiplication=m3@m1\n",
    "\n",
    "\n",
    "    \n",
    "# Transpose\n",
    "transpose = m1.T\n",
    "\n",
    "\n",
    "# Determinant (only for square matrices)\n",
    "try:\n",
    "    det = np.linalg.det(m2)\n",
    "except Exception as e:\n",
    "    print(\"3- multiplication error : \" ,e)\n",
    "    det = np.linalg.det(m1)\n",
    "\n",
    "\n",
    "# Inverse (only for square matrices with det != 0)\n",
    "try:\n",
    "    inverse = np.linalg.inv(singular)\n",
    "except Exception as e:\n",
    "    print(\"3- inverse error : \" ,e)\n",
    "    inverse = np.linalg.det(m1)\n",
    "\n",
    "\n",
    "# Rank : Number of independent rows/columns (using RREF)\n",
    "rank = sm.Matrix(singular).rank() \n",
    "sm.Matrix(singular).rref() #has two pivots -> rank =2\n"
   ]
  },
  {
   "cell_type": "code",
   "execution_count": null,
   "id": "c2246d8b-194c-4d24-8e66-dfe9b3c9cd11",
   "metadata": {},
   "outputs": [],
   "source": []
  }
 ],
 "metadata": {
  "kernelspec": {
   "display_name": "Python 3 (ipykernel)",
   "language": "python",
   "name": "python3"
  },
  "language_info": {
   "codemirror_mode": {
    "name": "ipython",
    "version": 3
   },
   "file_extension": ".py",
   "mimetype": "text/x-python",
   "name": "python",
   "nbconvert_exporter": "python",
   "pygments_lexer": "ipython3",
   "version": "3.12.7"
  }
 },
 "nbformat": 4,
 "nbformat_minor": 5
}
