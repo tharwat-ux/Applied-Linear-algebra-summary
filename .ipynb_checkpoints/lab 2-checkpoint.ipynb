{
 "cells": [
  {
   "cell_type": "code",
   "execution_count": 1,
   "id": "c0e807cb-5406-4c2e-87a7-262aa82ec42a",
   "metadata": {},
   "outputs": [],
   "source": [
    "import sympy as sm"
   ]
  },
  {
   "cell_type": "code",
   "execution_count": 12,
   "id": "0c9ab958-4d0f-4929-83c4-d43512144be4",
   "metadata": {},
   "outputs": [
    {
     "data": {
      "text/plain": [
       "(Matrix([\n",
       " [1, 0, 2, 3],\n",
       " [0, 1, 0, 1],\n",
       " [0, 0, 0, 0]]),\n",
       " (0, 1))"
      ]
     },
     "execution_count": 12,
     "metadata": {},
     "output_type": "execute_result"
    }
   ],
   "source": [
    "#rank\n",
    "sm.Matrix([[1,1,2,4],\n",
    "          [1,2,2,5],\n",
    "          [1,3,2,6]]).rref()"
   ]
  },
  {
   "cell_type": "code",
   "execution_count": 10,
   "id": "bb1a17c3-1fe3-4843-b9c1-871c59668d93",
   "metadata": {},
   "outputs": [],
   "source": [
    "# rank is 2 (number of pivots)\n",
    "# independent is v0 , v1\n",
    "# dependent are v2 = 2*v1\n",
    "            #and v3 = 3*v1 + v2"
   ]
  },
  {
   "cell_type": "code",
   "execution_count": null,
   "id": "0b548d26-a0f7-490f-a149-6c488cfb7a7d",
   "metadata": {},
   "outputs": [],
   "source": []
  }
 ],
 "metadata": {
  "kernelspec": {
   "display_name": "Python 3 (ipykernel)",
   "language": "python",
   "name": "python3"
  },
  "language_info": {
   "codemirror_mode": {
    "name": "ipython",
    "version": 3
   },
   "file_extension": ".py",
   "mimetype": "text/x-python",
   "name": "python",
   "nbconvert_exporter": "python",
   "pygments_lexer": "ipython3",
   "version": "3.12.7"
  }
 },
 "nbformat": 4,
 "nbformat_minor": 5
}
